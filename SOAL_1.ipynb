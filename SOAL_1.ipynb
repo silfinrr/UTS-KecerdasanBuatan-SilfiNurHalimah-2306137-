{
  "nbformat": 4,
  "nbformat_minor": 0,
  "metadata": {
    "colab": {
      "provenance": []
    },
    "kernelspec": {
      "name": "python3",
      "display_name": "Python 3"
    },
    "language_info": {
      "name": "python"
    }
  },
  "cells": [
    {
      "cell_type": "markdown",
      "source": [
        "1. Aturan Logika\n",
        "Berikut adalah empat aturan logika yang digunakan dalam sistem ini:\n",
        "\n",
        "Aturan 1: Jika daun menguning dan tanaman layu, maka hama yang terdeteksi adalah Aphid.\n",
        "\n",
        "Aturan 2: Jika terdapat bercak hitam pada daun, maka hama yang terdeteksi adalah Thrips.\n",
        "\n",
        "Aturan 3: Jika daun berlubang, maka hama yang terdeteksi adalah Ulat.\n",
        "\n",
        "Aturan 4: Jika daun menguning dan terdapat bercak hitam, maka hama yang terdeteksi adalah Tungau.\n",
        "\n",
        "2. Logika Proporsional\n",
        "Aturan-aturan ini dapat ditulis menggunakan logika proposisional:\n",
        "\n",
        "H1: \\text{daun_menguning} \\land \\text{tanaman_layu} \\to \\text{hama\\_aphid}\n",
        "\n",
        "H2: \\text{bercak_hitam} \\to \\text{hama\\_thrips}\n",
        "\n",
        "H3: \\text{daun_berlubang} \\to \\text{hama\\_ulat}\n",
        "\n",
        "H4: \\text{daun_menguning} \\land \\text{bercak_hitam} \\to \\text{hama\\_tungau}"
      ],
      "metadata": {
        "id": "DmPGh2GVr_wv"
      }
    },
    {
      "cell_type": "markdown",
      "source": [
        "Kode dengan Python"
      ],
      "metadata": {
        "id": "dQoEzXW-sKtl"
      }
    },
    {
      "cell_type": "code",
      "execution_count": 3,
      "metadata": {
        "colab": {
          "base_uri": "https://localhost:8080/"
        },
        "id": "iLNY5NU8pHsD",
        "outputId": "97a21107-1529-4609-ad39-727059812f57"
      },
      "outputs": [
        {
          "output_type": "stream",
          "name": "stdout",
          "text": [
            "Gejala tanaman: ['daun_menguning', 'bercak_hitam']\n",
            "\n",
            "Hasil Diagnosa Pasti:\n",
            "- Thrips\n",
            "- Tungau\n",
            "\n",
            "Hasil Diagnosa Kemungkinan:\n",
            "- Aphid (gejala cocok: daun_menguning)\n"
          ]
        }
      ],
      "source": [
        "hama_data = {\n",
        "    'Aphid': ['daun_menguning', 'tanaman_layu'],\n",
        "    'Thrips': ['bercak_hitam'],\n",
        "    'Ulat': ['daun_berlubang'],\n",
        "    'Tungau': ['daun_menguning', 'bercak_hitam']\n",
        "}\n",
        "\n",
        "def diagnosa_pasti(gejala_input):\n",
        "    hasil = []\n",
        "    for hama, gejala in hama_data.items():\n",
        "        if all(g in gejala_input for g in gejala):\n",
        "            hasil.append(hama)\n",
        "    return hasil\n",
        "\n",
        "def diagnosa_kemungkinan(gejala_input):\n",
        "    hasil = []\n",
        "    for hama, gejala in hama_data.items():\n",
        "        cocok = [g for g in gejala_input if g in gejala]\n",
        "        if 0 < len(cocok) < len(gejala):\n",
        "            hasil.append((hama, cocok))\n",
        "    return hasil\n",
        "\n",
        "# Contoh gejala yang terdeteksi\n",
        "gejala_pasien = ['daun_menguning', 'bercak_hitam']\n",
        "print(\"Gejala tanaman:\", gejala_pasien)\n",
        "\n",
        "# Diagnosa Pasti\n",
        "pasti = diagnosa_pasti(gejala_pasien)\n",
        "print(\"\\nHasil Diagnosa Pasti:\")\n",
        "if pasti:\n",
        "    for p in pasti:\n",
        "        print(f\"- {p}\")\n",
        "else:\n",
        "    print(\"Tidak ada diagnosa pasti.\")\n",
        "\n",
        "# Diagnosa Kemungkinan\n",
        "kemungkinan = diagnosa_kemungkinan(gejala_pasien)\n",
        "print(\"\\nHasil Diagnosa Kemungkinan:\")\n",
        "if kemungkinan:\n",
        "    for hama, cocok in kemungkinan:\n",
        "        print(f\"- {hama} (gejala cocok: {', '.join(cocok)})\")\n",
        "else:\n",
        "    print(\"Tidak ada diagnosa kemungkinan.\")\n"
      ]
    },
    {
      "cell_type": "markdown",
      "source": [
        "Pseudecodenya\n",
        "\n",
        "INPUT: gejala_input = {daun_menguning, bercak_hitam, daun_berlubang, tanaman_layu}\n",
        "\n",
        "RULES:\n",
        "  R1: IF daun_menguning AND tanaman_layu THEN hama = \"Aphid\"\n",
        "  R2: IF bercak_hitam THEN hama = \"Thrips\"\n",
        "  R3: IF daun_berlubang THEN hama = \"Ulat\"\n",
        "  R4: IF daun_menguning AND bercak_hitam THEN hama = \"Tungau\"\n",
        "\n",
        "PROCESS:\n",
        "  1. Buat list untuk diagnosa pasti dan kemungkinan.\n",
        "  2. Periksa gejala terhadap setiap aturan.\n",
        "  3. Jika semua gejala aturan terpenuhi, tambahkan ke diagnosa pasti.\n",
        "  4. Jika sebagian gejala aturan terpenuhi, tambahkan ke diagnosa kemungkinan.\n",
        "\n",
        "OUTPUT:\n",
        "  - Diagnosa pasti.\n",
        "  - Diagnosa kemungkinan.\n"
      ],
      "metadata": {
        "id": "Y-_W5JsBrQLF"
      }
    },
    {
      "cell_type": "markdown",
      "source": [
        "Alur Inferensi Sistem Pakar Hama Tanaman\n",
        "\n",
        "1. Input Gejala  \n",
        "Sistem menerima masukan berupa gejala yang diamati pada tanaman. Misalnya, pengguna melaporkan gejala seperti `['daun_menguning', 'bercak_hitam']`. Input ini akan digunakan untuk menganalisis kemungkinan jenis hama yang menyerang.\n",
        "\n",
        "---\n",
        "\n",
        "2. Diagnosa Pasti  \n",
        "Sistem melakukan langkah berikut untuk menentukan diagnosa pasti:  \n",
        "- Memeriksa setiap aturan yang ada di dalam basis pengetahuan.  \n",
        "- Jika semua gejala yang terdapat dalam suatu aturan sepenuhnya cocok dengan gejala yang dimasukkan oleh pengguna, sistem mengidentifikasi hama yang sesuai.  \n",
        "- Jenis hama yang memenuhi kriteria ini dimasukkan ke dalam daftar *diagnosa pasti*.  \n",
        "\n",
        "Contoh:  \n",
        "- Jika input adalah `['daun_menguning', 'tanaman_layu']` dan ada aturan:  \n",
        "  \\[ \\text{Jika daun menguning dan tanaman layu, maka hama adalah Aphid.} \\]  \n",
        "  Sistem akan mendeteksi *Aphid* sebagai hasil diagnosa pasti.\n",
        "\n",
        "---\n",
        "\n",
        "3. Diagnosa Kemungkinan  \n",
        "Sistem juga mengevaluasi kemungkinan hama berdasarkan kecocokan sebagian gejala:  \n",
        "- Untuk setiap aturan, sistem memeriksa apakah sebagian dari gejala dalam aturan cocok dengan input pengguna.  \n",
        "- Jika sebagian gejala cocok, sistem menambahkan hama yang terkait ke dalam daftar *diagnosa kemungkinan*.  \n",
        "- Selain itu, sistem juga mencatat gejala mana yang cocok dari aturan tersebut.  \n",
        "\n",
        "Contoh:  \n",
        "- Jika input adalah `[daun_menguning]` dan ada aturan:  \n",
        "  \\[ \\text{Jika daun menguning dan tanaman layu, maka hama adalah Aphid.} \\]  \n",
        "  Sistem akan mencatat *Aphid* sebagai hasil diagnosa kemungkinan dengan gejala yang cocok adalah `[daun_menguning]`.\n",
        "\n",
        "---\n",
        "\n",
        "4. Output\n",
        "Setelah proses analisis selesai, sistem menampilkan hasil diagnosa sebagai berikut:  \n",
        "- Diagnosa Pasti: Daftar hama yang pasti terdeteksi berdasarkan kecocokan lengkap gejala.  \n",
        "- Diagnosa Kemungkinan: Daftar hama yang mungkin terdeteksi, bersama dengan rincian gejala yang cocok.  \n",
        "\n",
        "Contoh Output:  \n",
        "- Input Gejala: `['daun_menguning', 'bercak_hitam']`  \n",
        "- Diagnosa Pasti:  \n",
        "  \\[ \\text{- Tungau} \\]  \n",
        "- Diagnosa Kemungkinan:  \n",
        "  \\[ \\text{- Aphid (gejala cocok: daun menguning)} \\]  "
      ],
      "metadata": {
        "id": "LmY13R-2snQy"
      }
    }
  ]
}